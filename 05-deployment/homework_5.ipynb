{
 "cells": [
  {
   "cell_type": "code",
   "execution_count": 2,
   "id": "9c437a74-fc76-424f-a208-1dbb18256df5",
   "metadata": {},
   "outputs": [
    {
     "name": "stdout",
     "output_type": "stream",
     "text": [
      "uv 0.9.5\n"
     ]
    }
   ],
   "source": [
    "!uv --version"
   ]
  },
  {
   "cell_type": "code",
   "execution_count": 3,
   "id": "1d46e375-3e8e-40bd-94eb-329acd15e173",
   "metadata": {},
   "outputs": [
    {
     "name": "stdout",
     "output_type": "stream",
     "text": [
      "\u001b[2mResolved \u001b[1m21 packages\u001b[0m \u001b[2min 0.58ms\u001b[0m\u001b[0m\n",
      "\u001b[2mAudited \u001b[1m19 packages\u001b[0m \u001b[2min 0.15ms\u001b[0m\u001b[0m\n"
     ]
    }
   ],
   "source": [
    "!uv add scikit-learn==1.6.1"
   ]
  },
  {
   "cell_type": "code",
   "execution_count": 4,
   "id": "7cfd841a-0b64-45b6-adeb-8387513504c2",
   "metadata": {},
   "outputs": [
    {
     "name": "stdout",
     "output_type": "stream",
     "text": [
      "sdist = { url = \"https://files.pythonhosted.org/packages/9e/a5/4ae3b3a0755f7b35a280ac90b28817d1f380318973cff14075ab41ef50d9/scikit_learn-1.6.1.tar.gz\", hash = \"sha256:b4fc2525eca2c69a59260f583c56a7557c6ccdf8deafdba6e060f94c1c59738e\", size = 7068312, upload-time = \"2025-01-10T08:07:55.348Z\" }\n"
     ]
    }
   ],
   "source": [
    "!grep -i \"scikit_learn-1.6.1.tar.gz\" uv.lock"
   ]
  },
  {
   "cell_type": "code",
   "execution_count": 6,
   "id": "9589e1ce-a5b1-4461-bca5-d34bfc34ee32",
   "metadata": {},
   "outputs": [
    {
     "name": "stdout",
     "output_type": "stream",
     "text": [
      "[0.53360727]\n"
     ]
    }
   ],
   "source": [
    "import pickle\n",
    "\n",
    "import os\n",
    "model_file_name = \"pipeline_v1.bin\"\n",
    "def load_model(model_path: str):\n",
    "    with open(model_path, \"rb\") as f_in:\n",
    "        dict_vectorizer, model = pickle.load(f_in)\n",
    "    return dict_vectorizer, model\n",
    "\n",
    " \n",
    "record = {\n",
    "    \"lead_source\": \"paid_ads\",\n",
    "    \"number_of_courses_viewed\": 2,\n",
    "    \"annual_income\": 79276.0\n",
    "}\n",
    "dv, model = load_model(os.path.join(os.getcwd(), model_file_name))\n",
    "X = dv.transform([record])\n",
    "y_pred = model.predict_proba(X)[:, 1]\n",
    "print(y_pred)"
   ]
  },
  {
   "cell_type": "code",
   "execution_count": 7,
   "id": "694d47f1-11b9-487b-a391-637ac3702742",
   "metadata": {},
   "outputs": [
    {
     "name": "stdout",
     "output_type": "stream",
     "text": [
      "\u001b[2mResolved \u001b[1m21 packages\u001b[0m \u001b[2min 10ms\u001b[0m\u001b[0m\n",
      "\u001b[2mAudited \u001b[1m19 packages\u001b[0m \u001b[2min 0.24ms\u001b[0m\u001b[0m\n"
     ]
    }
   ],
   "source": [
    "!uv add fastapi uvicorn"
   ]
  },
  {
   "cell_type": "code",
   "execution_count": 21,
   "id": "5d594c18-4ea3-48be-bb2c-26688c190de6",
   "metadata": {},
   "outputs": [
    {
     "data": {
      "text/plain": [
       "{'conversion_probability': 0.5340417283801275, 'converted': True}"
      ]
     },
     "execution_count": 21,
     "metadata": {},
     "output_type": "execute_result"
    }
   ],
   "source": [
    "import requests\n",
    "\n",
    "url = \"http://localhost:8080/ai\"\n",
    "client = {\n",
    "    \"lead_source\": \"organic_search\",\n",
    "    \"number_of_courses_viewed\": 4,\n",
    "    \"annual_income\": 80304.0\n",
    "}\n",
    "\n",
    "requests.post(url, json=client).json()"
   ]
  },
  {
   "cell_type": "code",
   "execution_count": 17,
   "id": "d71babec-6be5-44eb-ab8b-deb4b4d5cabb",
   "metadata": {},
   "outputs": [
    {
     "name": "stdout",
     "output_type": "stream",
     "text": [
      "2025: Pulling from agrigorev/zoomcamp-model\n",
      "Digest: sha256:14d79fde0bbf078eb18c99c2bd007205917b758ec11060b2994963a1e485c2ae\n",
      "Status: Image is up to date for agrigorev/zoomcamp-model:2025\n",
      "docker.io/agrigorev/zoomcamp-model:2025\n",
      "agrigorev/zoomcamp-model         2025      4a9ecc576ae9   7 days ago     121MB\n"
     ]
    }
   ],
   "source": [
    "!docker pull agrigorev/zoomcamp-model:2025\n",
    "!docker images | grep -i \"agrigorev/zoomcamp-model\""
   ]
  },
  {
   "cell_type": "code",
   "execution_count": 20,
   "id": "789f9e66",
   "metadata": {},
   "outputs": [
    {
     "data": {
      "text/plain": [
       "{'conversion_probability': 0.5340417283801275, 'converted': True}"
      ]
     },
     "execution_count": 20,
     "metadata": {},
     "output_type": "execute_result"
    }
   ],
   "source": [
    "import requests\n",
    "\n",
    "url = \"http://localhost:8080/ai\"\n",
    "client = {\n",
    "    \"lead_source\": \"organic_search\",\n",
    "    \"number_of_courses_viewed\": 4,\n",
    "    \"annual_income\": 80304.0\n",
    "}\n",
    "\n",
    "requests.post(url, json=client).json()"
   ]
  }
 ],
 "metadata": {
  "kernelspec": {
   "display_name": "Python 3",
   "language": "python",
   "name": "python3"
  },
  "language_info": {
   "codemirror_mode": {
    "name": "ipython",
    "version": 3
   },
   "file_extension": ".py",
   "mimetype": "text/x-python",
   "name": "python",
   "nbconvert_exporter": "python",
   "pygments_lexer": "ipython3",
   "version": "3.12.1"
  }
 },
 "nbformat": 4,
 "nbformat_minor": 5
}
